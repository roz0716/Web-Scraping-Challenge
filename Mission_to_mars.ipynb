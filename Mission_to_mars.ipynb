{
 "metadata": {
  "language_info": {
   "codemirror_mode": {
    "name": "ipython",
    "version": 3
   },
   "file_extension": ".py",
   "mimetype": "text/x-python",
   "name": "python",
   "nbconvert_exporter": "python",
   "pygments_lexer": "ipython3",
   "version": 3
  },
  "orig_nbformat": 2
 },
 "nbformat": 4,
 "nbformat_minor": 2,
 "cells": [
  {
   "cell_type": "code",
   "execution_count": null,
   "metadata": {},
   "outputs": [],
   "source": [
    "# import dependencies\n",
    "\n",
    "from bs4 import BeautifulSoup\n",
    "from splinter import Browser\n",
    "import pandas as pd\n",
    "import requests"
   ]
  },
  {
   "cell_type": "code",
   "execution_count": null,
   "metadata": {},
   "outputs": [],
   "source": [
    "#PART 1 - NASA Mars News\n",
    "# executable path to driver \n",
    "path = {'executable_path': 'C:/Users/reneise/Desktop/Web-Scraping-Challenge/chromedriver'}\n",
    "\n",
    "browser = Browser('chrome', **executable_path, headless=False)\n",
    "\n",
    "url = 'https://mars.nasa.gov/news/'\n",
    "\n",
    "browser.visit(url)"
   ]
  },
  {
   "cell_type": "code",
   "execution_count": null,
   "metadata": {},
   "outputs": [],
   "source": [
    "# Getting the Title\n",
    "\n",
    "html = browser.html\n",
    "\n",
    "soup = BeautifulSoup(html, 'html.parser')\n",
    "\n",
    "news_title = soup.find('div', class_='content_title').find('a').text"
   ]
  },
  {
   "cell_type": "code",
   "execution_count": null,
   "metadata": {},
   "outputs": [],
   "source": [
    "# Getting the Paragraph\n",
    "\n",
    "news_p = soup.find('div', class_='article_teaser_body').text"
   ]
  },
  {
   "cell_type": "code",
   "execution_count": null,
   "metadata": {},
   "outputs": [],
   "source": [
    "# Printing Title and Paragraph like example\n",
    "\n",
    "print(f\"Title:\\n\\n{news_title}\")\n",
    "print(\"\\n----------------------------------------------------------\\n\")\n",
    "print(f\"Paragraph:\\n\\n{news_p}\")"
   ]
  },
  {
   "cell_type": "code",
   "execution_count": null,
   "metadata": {},
   "outputs": [],
   "source": [
    "\n",
    "#PART 2 - JPL Mars Space Images - Featured Image\n",
    "# Add url provided, create variable \"featured_image_url\", open browser\n",
    "\n",
    "featured_image_url = \"https://www.jpl.nasa.gov/spaceimages/?search=&category=Mars\"\n",
    "\n",
    "browser.visit(featured_image_url)"
   ]
  },
  {
   "cell_type": "code",
   "execution_count": null,
   "metadata": {},
   "outputs": [],
   "source": [
    "html_image = browser.html\n",
    "soup = BeautifulSoup(html_image, 'html.parser')"
   ]
  },
  {
   "cell_type": "code",
   "execution_count": null,
   "metadata": {},
   "outputs": [],
   "source": [
    "\n",
    "featured_image_url  = soup.find('article')['style'].replace('background-image: url(','').replace(');', '')[1:-1]\n",
    "\n",
    "main_url = 'https://www.jpl.nasa.gov'\n",
    "\n",
    "featured_image_url = main_url + featured_image_url\n",
    "\n",
    "featured_image_url"
   ]
  },
  {
   "cell_type": "code",
   "execution_count": null,
   "metadata": {},
   "outputs": [],
   "source": [
    "#PART 3 - Mars Weather\n",
    "# Mars Weather Twitter Account\n",
    "\n",
    "weather_twitter_url = 'https://twitter.com/marswxreport?lang=en'\n",
    "\n",
    "browser.visit(weather_twitter_url)"
   ]
  },
  {
   "cell_type": "code",
   "execution_count": null,
   "metadata": {},
   "outputs": [],
   "source": [
    "html_weather = browser.html\n",
    "\n",
    "soup = BeautifulSoup(html_weather, 'html.parser')"
   ]
  },
  {
   "cell_type": "code",
   "execution_count": null,
   "metadata": {},
   "outputs": [],
   "source": [
    "mars_weather = soup.find_all('div', class_='js-tweet-text-container')\n",
    "\n",
    "for tweet in mars_weather: \n",
    "    weather_tweet = tweet.find('p').text\n",
    "    if 'Sol' and 'pressure' in weather_tweet:\n",
    "        print(f\"Mars Weather Twitter Tweet:\\n\\n{weather_tweet}\")\n",
    "        break\n",
    "    else: \n",
    "        pass"
   ]
  },
  {
   "cell_type": "code",
   "execution_count": null,
   "metadata": {},
   "outputs": [],
   "source": [
    "hemispheres_url = 'https://astrogeology.usgs.gov/search/results?q=hemisphere+enhanced&k1=target&v1=Mars'\n",
    "\n",
    "browser.visit(hemispheres_url)"
   ]
  },
  {
   "cell_type": "code",
   "execution_count": null,
   "metadata": {},
   "outputs": [],
   "source": [
    "html_hemispheres = browser.html\n",
    "\n",
    "soup = BeautifulSoup(html_hemispheres, 'html.parser')"
   ]
  },
  {
   "cell_type": "code",
   "execution_count": null,
   "metadata": {},
   "outputs": [],
   "source": [
    "items = soup.find_all('div', class_='item')\n",
    "\n",
    "hemisphere_image_urls = []\n",
    "\n",
    "hemispheres_main_url = 'https://astrogeology.usgs.gov'\n",
    "\n",
    "for item in items: \n",
    "   \n",
    "    title = item.find('h3').text\n",
    "    \n",
    "    image_url = item.find('a', class_='itemLink product-item')['href']\n",
    "\n",
    "    browser.visit(hemispheres_main_url + image_url)\n",
    "\n",
    "    image_html = browser.html\n",
    "\n",
    "    soup = BeautifulSoup( image_html, 'html.parser')\n",
    "\n",
    "    image_url = hemispheres_main_url + soup.find('img', class_='wide-image')['src']\n",
    "\n",
    "    hemisphere_image_urls.append({\"Title\" : title, \"Image_URL\" : image_url})"
   ]
  },
  {
   "cell_type": "code",
   "execution_count": null,
   "metadata": {},
   "outputs": [],
   "source": [
    "# print(f\"HEMISPHERE IMAGE URLS:\\n{hemisphere_image_urls[0]}\\n{hemisphere_image_urls[1]}\\n{hemisphere_image_urls[2]}\\n{hemisphere_image_urls[3]}\")\n",
    "print(f\"Hemisphere Image URLs\")\n",
    "print()\n",
    "print(\"-------------------------------------------------\")\n",
    "print()\n",
    "print(f\"Cerberus Hemisphere Enhanced:\\n{hemisphere_image_urls[0]}\")\n",
    "print()\n",
    "print(f\"Schiaparelli Hemisphere Enhanced:\\n{hemisphere_image_urls[1]}\")\n",
    "print()\n",
    "print(f\"Syrtis Major Hemisphere Enhanced:\\n{hemisphere_image_urls[2]}\")\n",
    "print()\n",
    "print(f\"Valles Marineris Hemisphere Enhanced:\\n{hemisphere_image_urls[3]}\")"
   ]
  },
  {
   "cell_type": "code",
   "execution_count": null,
   "metadata": {},
   "outputs": [],
   "source": []
  },
  {
   "cell_type": "code",
   "execution_count": null,
   "metadata": {},
   "outputs": [],
   "source": []
  },
  {
   "cell_type": "code",
   "execution_count": null,
   "metadata": {},
   "outputs": [],
   "source": []
  }
 ]
}